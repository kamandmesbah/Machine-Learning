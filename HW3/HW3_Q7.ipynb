{
  "nbformat": 4,
  "nbformat_minor": 0,
  "metadata": {
    "colab": {
      "provenance": []
    },
    "kernelspec": {
      "name": "python3",
      "display_name": "Python 3"
    },
    "language_info": {
      "name": "python"
    }
  },
  "cells": [
    {
      "cell_type": "code",
      "execution_count": 1,
      "metadata": {
        "id": "CPzzYjo_5ZRz"
      },
      "outputs": [],
      "source": [
        "import pandas as pd\n",
        "from sklearn.model_selection import train_test_split\n",
        "from sklearn.feature_extraction.text import CountVectorizer\n",
        "from sklearn.svm import SVC\n",
        "from sklearn.metrics import confusion_matrix, accuracy_score\n",
        "from sklearn.model_selection import GridSearchCV, RandomizedSearchCV\n"
      ]
    },
    {
      "cell_type": "code",
      "source": [
        "from google.colab import drive\n",
        "drive.mount('/content/drive')\n"
      ],
      "metadata": {
        "colab": {
          "base_uri": "https://localhost:8080/"
        },
        "id": "ku8R2qfj6BbS",
        "outputId": "ac3fea56-9888-45c3-9120-a6201edd6839"
      },
      "execution_count": 2,
      "outputs": [
        {
          "output_type": "stream",
          "name": "stdout",
          "text": [
            "Mounted at /content/drive\n"
          ]
        }
      ]
    },
    {
      "cell_type": "code",
      "source": [
        "\n",
        "# Load the dataset with a different encoding\n",
        "try:\n",
        "    data = pd.read_csv(\"/content/drive/MyDrive/ML/HW3/7/spamSMS.csv\", encoding='utf-8')\n",
        "except UnicodeDecodeError:\n",
        "    try:\n",
        "        data = pd.read_csv(\"/content/drive/MyDrive/ML/HW3/7/spamSMS.csv\", encoding='ISO-8859-1')\n",
        "    except UnicodeDecodeError:\n",
        "        data = pd.read_csv(\"/content/drive/MyDrive/ML/HW3/7/spamSMS.csv\", encoding='cp1252')\n"
      ],
      "metadata": {
        "id": "bdJUxBMc5kVo"
      },
      "execution_count": 3,
      "outputs": []
    },
    {
      "cell_type": "code",
      "source": [
        "# Print the distribution of tags\n",
        "print(data['v1'].value_counts())\n"
      ],
      "metadata": {
        "colab": {
          "base_uri": "https://localhost:8080/"
        },
        "id": "sFvcHgyH6ovE",
        "outputId": "e44988b3-2598-4a86-d505-2834307bc651"
      },
      "execution_count": 4,
      "outputs": [
        {
          "output_type": "stream",
          "name": "stdout",
          "text": [
            "ham     4825\n",
            "spam     747\n",
            "Name: v1, dtype: int64\n"
          ]
        }
      ]
    },
    {
      "cell_type": "code",
      "source": [
        "# Extract features\n",
        "vectorizer = CountVectorizer()\n",
        "X = vectorizer.fit_transform(data['v2'])\n",
        "y = data['v1']\n",
        "\n"
      ],
      "metadata": {
        "id": "isvTkwwJ7VQ2"
      },
      "execution_count": 5,
      "outputs": []
    },
    {
      "cell_type": "code",
      "source": [
        "# Split data into training and test sets\n",
        "X_train, X_test, y_train, y_test = train_test_split(X, y, test_size=0.3, random_state=42)\n"
      ],
      "metadata": {
        "id": "prSRuHMb7aPU"
      },
      "execution_count": 6,
      "outputs": []
    },
    {
      "cell_type": "code",
      "source": [
        "# Define the parameter grid\n",
        "param_grid = {'C': [0.1, 1, 10, 100], 'gamma': [1, 0.1, 0.01, 0.001], 'kernel': ['rbf', 'linear']}\n",
        "\n",
        "# Create a GridSearchCV object\n",
        "grid_search = GridSearchCV(SVC(), param_grid, refit=True, verbose=3)\n",
        "\n",
        "# Fit the model\n",
        "grid_search.fit(X_train, y_train)\n",
        "\n",
        "# Print best parameters\n",
        "print(\"Best parameters (Grid Search):\", grid_search.best_params_)\n",
        "\n",
        "# Random Search\n",
        "random_search = RandomizedSearchCV(SVC(), param_grid, n_iter=10, refit=True, verbose=3, random_state=42)\n",
        "random_search.fit(X_train, y_train)\n",
        "\n",
        "# Print best parameters\n",
        "print(\"Best parameters (Random Search):\", random_search.best_params_)\n"
      ],
      "metadata": {
        "colab": {
          "base_uri": "https://localhost:8080/"
        },
        "id": "NrxE9oNT7clM",
        "outputId": "b4c5482c-5b41-45ff-bbec-5236f762b5c1"
      },
      "execution_count": 7,
      "outputs": [
        {
          "output_type": "stream",
          "name": "stdout",
          "text": [
            "Fitting 5 folds for each of 32 candidates, totalling 160 fits\n",
            "[CV 1/5] END ........C=0.1, gamma=1, kernel=rbf;, score=0.864 total time=   1.9s\n",
            "[CV 2/5] END ........C=0.1, gamma=1, kernel=rbf;, score=0.864 total time=   1.9s\n",
            "[CV 3/5] END ........C=0.1, gamma=1, kernel=rbf;, score=0.864 total time=   1.8s\n",
            "[CV 4/5] END ........C=0.1, gamma=1, kernel=rbf;, score=0.865 total time=   1.8s\n",
            "[CV 5/5] END ........C=0.1, gamma=1, kernel=rbf;, score=0.865 total time=   1.9s\n",
            "[CV 1/5] END .....C=0.1, gamma=1, kernel=linear;, score=0.990 total time=   0.4s\n",
            "[CV 2/5] END .....C=0.1, gamma=1, kernel=linear;, score=0.983 total time=   0.4s\n",
            "[CV 3/5] END .....C=0.1, gamma=1, kernel=linear;, score=0.974 total time=   0.4s\n",
            "[CV 4/5] END .....C=0.1, gamma=1, kernel=linear;, score=0.981 total time=   0.4s\n",
            "[CV 5/5] END .....C=0.1, gamma=1, kernel=linear;, score=0.979 total time=   0.4s\n",
            "[CV 1/5] END ......C=0.1, gamma=0.1, kernel=rbf;, score=0.864 total time=   1.3s\n",
            "[CV 2/5] END ......C=0.1, gamma=0.1, kernel=rbf;, score=0.864 total time=   1.3s\n",
            "[CV 3/5] END ......C=0.1, gamma=0.1, kernel=rbf;, score=0.864 total time=   1.3s\n",
            "[CV 4/5] END ......C=0.1, gamma=0.1, kernel=rbf;, score=0.865 total time=   1.2s\n",
            "[CV 5/5] END ......C=0.1, gamma=0.1, kernel=rbf;, score=0.865 total time=   1.1s\n",
            "[CV 1/5] END ...C=0.1, gamma=0.1, kernel=linear;, score=0.990 total time=   0.4s\n",
            "[CV 2/5] END ...C=0.1, gamma=0.1, kernel=linear;, score=0.983 total time=   0.4s\n",
            "[CV 3/5] END ...C=0.1, gamma=0.1, kernel=linear;, score=0.974 total time=   0.3s\n",
            "[CV 4/5] END ...C=0.1, gamma=0.1, kernel=linear;, score=0.981 total time=   0.3s\n",
            "[CV 5/5] END ...C=0.1, gamma=0.1, kernel=linear;, score=0.979 total time=   0.3s\n",
            "[CV 1/5] END .....C=0.1, gamma=0.01, kernel=rbf;, score=0.864 total time=   0.7s\n",
            "[CV 2/5] END .....C=0.1, gamma=0.01, kernel=rbf;, score=0.865 total time=   0.7s\n",
            "[CV 3/5] END .....C=0.1, gamma=0.01, kernel=rbf;, score=0.867 total time=   0.7s\n",
            "[CV 4/5] END .....C=0.1, gamma=0.01, kernel=rbf;, score=0.868 total time=   0.7s\n",
            "[CV 5/5] END .....C=0.1, gamma=0.01, kernel=rbf;, score=0.865 total time=   0.7s\n",
            "[CV 1/5] END ..C=0.1, gamma=0.01, kernel=linear;, score=0.990 total time=   0.4s\n",
            "[CV 2/5] END ..C=0.1, gamma=0.01, kernel=linear;, score=0.983 total time=   0.3s\n",
            "[CV 3/5] END ..C=0.1, gamma=0.01, kernel=linear;, score=0.974 total time=   0.3s\n",
            "[CV 4/5] END ..C=0.1, gamma=0.01, kernel=linear;, score=0.981 total time=   0.3s\n",
            "[CV 5/5] END ..C=0.1, gamma=0.01, kernel=linear;, score=0.979 total time=   0.3s\n",
            "[CV 1/5] END ....C=0.1, gamma=0.001, kernel=rbf;, score=0.864 total time=   0.6s\n",
            "[CV 2/5] END ....C=0.1, gamma=0.001, kernel=rbf;, score=0.864 total time=   0.6s\n",
            "[CV 3/5] END ....C=0.1, gamma=0.001, kernel=rbf;, score=0.864 total time=   0.7s\n",
            "[CV 4/5] END ....C=0.1, gamma=0.001, kernel=rbf;, score=0.865 total time=   0.8s\n",
            "[CV 5/5] END ....C=0.1, gamma=0.001, kernel=rbf;, score=0.865 total time=   0.8s\n",
            "[CV 1/5] END .C=0.1, gamma=0.001, kernel=linear;, score=0.990 total time=   0.4s\n",
            "[CV 2/5] END .C=0.1, gamma=0.001, kernel=linear;, score=0.983 total time=   0.4s\n",
            "[CV 3/5] END .C=0.1, gamma=0.001, kernel=linear;, score=0.974 total time=   0.4s\n",
            "[CV 4/5] END .C=0.1, gamma=0.001, kernel=linear;, score=0.981 total time=   0.4s\n",
            "[CV 5/5] END .C=0.1, gamma=0.001, kernel=linear;, score=0.979 total time=   0.4s\n",
            "[CV 1/5] END ..........C=1, gamma=1, kernel=rbf;, score=0.890 total time=   2.4s\n",
            "[CV 2/5] END ..........C=1, gamma=1, kernel=rbf;, score=0.881 total time=   1.9s\n",
            "[CV 3/5] END ..........C=1, gamma=1, kernel=rbf;, score=0.882 total time=   1.9s\n",
            "[CV 4/5] END ..........C=1, gamma=1, kernel=rbf;, score=0.888 total time=   1.9s\n",
            "[CV 5/5] END ..........C=1, gamma=1, kernel=rbf;, score=0.892 total time=   1.9s\n",
            "[CV 1/5] END .......C=1, gamma=1, kernel=linear;, score=0.988 total time=   0.3s\n",
            "[CV 2/5] END .......C=1, gamma=1, kernel=linear;, score=0.985 total time=   0.3s\n",
            "[CV 3/5] END .......C=1, gamma=1, kernel=linear;, score=0.977 total time=   0.3s\n",
            "[CV 4/5] END .......C=1, gamma=1, kernel=linear;, score=0.979 total time=   0.3s\n",
            "[CV 5/5] END .......C=1, gamma=1, kernel=linear;, score=0.981 total time=   0.3s\n",
            "[CV 1/5] END ........C=1, gamma=0.1, kernel=rbf;, score=0.967 total time=   1.3s\n",
            "[CV 2/5] END ........C=1, gamma=0.1, kernel=rbf;, score=0.942 total time=   1.4s\n",
            "[CV 3/5] END ........C=1, gamma=0.1, kernel=rbf;, score=0.951 total time=   1.4s\n",
            "[CV 4/5] END ........C=1, gamma=0.1, kernel=rbf;, score=0.938 total time=   1.4s\n",
            "[CV 5/5] END ........C=1, gamma=0.1, kernel=rbf;, score=0.954 total time=   1.3s\n",
            "[CV 1/5] END .....C=1, gamma=0.1, kernel=linear;, score=0.988 total time=   0.3s\n",
            "[CV 2/5] END .....C=1, gamma=0.1, kernel=linear;, score=0.985 total time=   0.3s\n",
            "[CV 3/5] END .....C=1, gamma=0.1, kernel=linear;, score=0.977 total time=   0.3s\n",
            "[CV 4/5] END .....C=1, gamma=0.1, kernel=linear;, score=0.979 total time=   0.3s\n",
            "[CV 5/5] END .....C=1, gamma=0.1, kernel=linear;, score=0.981 total time=   0.3s\n",
            "[CV 1/5] END .......C=1, gamma=0.01, kernel=rbf;, score=0.983 total time=   0.5s\n",
            "[CV 2/5] END .......C=1, gamma=0.01, kernel=rbf;, score=0.976 total time=   0.5s\n",
            "[CV 3/5] END .......C=1, gamma=0.01, kernel=rbf;, score=0.967 total time=   0.5s\n",
            "[CV 4/5] END .......C=1, gamma=0.01, kernel=rbf;, score=0.973 total time=   0.5s\n",
            "[CV 5/5] END .......C=1, gamma=0.01, kernel=rbf;, score=0.974 total time=   0.5s\n",
            "[CV 1/5] END ....C=1, gamma=0.01, kernel=linear;, score=0.988 total time=   0.3s\n",
            "[CV 2/5] END ....C=1, gamma=0.01, kernel=linear;, score=0.985 total time=   0.3s\n",
            "[CV 3/5] END ....C=1, gamma=0.01, kernel=linear;, score=0.977 total time=   0.3s\n",
            "[CV 4/5] END ....C=1, gamma=0.01, kernel=linear;, score=0.979 total time=   0.3s\n",
            "[CV 5/5] END ....C=1, gamma=0.01, kernel=linear;, score=0.981 total time=   0.3s\n",
            "[CV 1/5] END ......C=1, gamma=0.001, kernel=rbf;, score=0.894 total time=   0.7s\n",
            "[CV 2/5] END ......C=1, gamma=0.001, kernel=rbf;, score=0.894 total time=   0.6s\n",
            "[CV 3/5] END ......C=1, gamma=0.001, kernel=rbf;, score=0.887 total time=   0.7s\n",
            "[CV 4/5] END ......C=1, gamma=0.001, kernel=rbf;, score=0.885 total time=   0.7s\n",
            "[CV 5/5] END ......C=1, gamma=0.001, kernel=rbf;, score=0.886 total time=   0.7s\n",
            "[CV 1/5] END ...C=1, gamma=0.001, kernel=linear;, score=0.988 total time=   0.3s\n",
            "[CV 2/5] END ...C=1, gamma=0.001, kernel=linear;, score=0.985 total time=   0.4s\n",
            "[CV 3/5] END ...C=1, gamma=0.001, kernel=linear;, score=0.977 total time=   0.4s\n",
            "[CV 4/5] END ...C=1, gamma=0.001, kernel=linear;, score=0.979 total time=   0.4s\n",
            "[CV 5/5] END ...C=1, gamma=0.001, kernel=linear;, score=0.981 total time=   0.4s\n",
            "[CV 1/5] END .........C=10, gamma=1, kernel=rbf;, score=0.890 total time=   2.6s\n",
            "[CV 2/5] END .........C=10, gamma=1, kernel=rbf;, score=0.881 total time=   2.4s\n",
            "[CV 3/5] END .........C=10, gamma=1, kernel=rbf;, score=0.882 total time=   1.9s\n",
            "[CV 4/5] END .........C=10, gamma=1, kernel=rbf;, score=0.888 total time=   1.9s\n",
            "[CV 5/5] END .........C=10, gamma=1, kernel=rbf;, score=0.894 total time=   1.9s\n",
            "[CV 1/5] END ......C=10, gamma=1, kernel=linear;, score=0.988 total time=   0.3s\n",
            "[CV 2/5] END ......C=10, gamma=1, kernel=linear;, score=0.985 total time=   0.3s\n",
            "[CV 3/5] END ......C=10, gamma=1, kernel=linear;, score=0.974 total time=   0.3s\n",
            "[CV 4/5] END ......C=10, gamma=1, kernel=linear;, score=0.981 total time=   0.3s\n",
            "[CV 5/5] END ......C=10, gamma=1, kernel=linear;, score=0.981 total time=   0.3s\n",
            "[CV 1/5] END .......C=10, gamma=0.1, kernel=rbf;, score=0.973 total time=   1.1s\n",
            "[CV 2/5] END .......C=10, gamma=0.1, kernel=rbf;, score=0.947 total time=   1.1s\n",
            "[CV 3/5] END .......C=10, gamma=0.1, kernel=rbf;, score=0.954 total time=   1.4s\n",
            "[CV 4/5] END .......C=10, gamma=0.1, kernel=rbf;, score=0.946 total time=   1.4s\n",
            "[CV 5/5] END .......C=10, gamma=0.1, kernel=rbf;, score=0.956 total time=   1.4s\n",
            "[CV 1/5] END ....C=10, gamma=0.1, kernel=linear;, score=0.988 total time=   0.4s\n",
            "[CV 2/5] END ....C=10, gamma=0.1, kernel=linear;, score=0.985 total time=   0.4s\n",
            "[CV 3/5] END ....C=10, gamma=0.1, kernel=linear;, score=0.974 total time=   0.4s\n",
            "[CV 4/5] END ....C=10, gamma=0.1, kernel=linear;, score=0.981 total time=   0.4s\n",
            "[CV 5/5] END ....C=10, gamma=0.1, kernel=linear;, score=0.981 total time=   0.4s\n",
            "[CV 1/5] END ......C=10, gamma=0.01, kernel=rbf;, score=0.990 total time=   0.5s\n",
            "[CV 2/5] END ......C=10, gamma=0.01, kernel=rbf;, score=0.985 total time=   0.5s\n",
            "[CV 3/5] END ......C=10, gamma=0.01, kernel=rbf;, score=0.977 total time=   0.5s\n",
            "[CV 4/5] END ......C=10, gamma=0.01, kernel=rbf;, score=0.982 total time=   0.5s\n",
            "[CV 5/5] END ......C=10, gamma=0.01, kernel=rbf;, score=0.978 total time=   0.4s\n",
            "[CV 1/5] END ...C=10, gamma=0.01, kernel=linear;, score=0.988 total time=   0.3s\n",
            "[CV 2/5] END ...C=10, gamma=0.01, kernel=linear;, score=0.985 total time=   0.3s\n",
            "[CV 3/5] END ...C=10, gamma=0.01, kernel=linear;, score=0.974 total time=   0.3s\n",
            "[CV 4/5] END ...C=10, gamma=0.01, kernel=linear;, score=0.981 total time=   0.3s\n",
            "[CV 5/5] END ...C=10, gamma=0.01, kernel=linear;, score=0.981 total time=   0.3s\n",
            "[CV 1/5] END .....C=10, gamma=0.001, kernel=rbf;, score=0.986 total time=   0.5s\n",
            "[CV 2/5] END .....C=10, gamma=0.001, kernel=rbf;, score=0.976 total time=   0.4s\n",
            "[CV 3/5] END .....C=10, gamma=0.001, kernel=rbf;, score=0.967 total time=   0.4s\n",
            "[CV 4/5] END .....C=10, gamma=0.001, kernel=rbf;, score=0.973 total time=   0.4s\n",
            "[CV 5/5] END .....C=10, gamma=0.001, kernel=rbf;, score=0.976 total time=   0.4s\n",
            "[CV 1/5] END ..C=10, gamma=0.001, kernel=linear;, score=0.988 total time=   0.3s\n",
            "[CV 2/5] END ..C=10, gamma=0.001, kernel=linear;, score=0.985 total time=   0.3s\n",
            "[CV 3/5] END ..C=10, gamma=0.001, kernel=linear;, score=0.974 total time=   0.3s\n",
            "[CV 4/5] END ..C=10, gamma=0.001, kernel=linear;, score=0.981 total time=   0.3s\n",
            "[CV 5/5] END ..C=10, gamma=0.001, kernel=linear;, score=0.981 total time=   0.3s\n",
            "[CV 1/5] END ........C=100, gamma=1, kernel=rbf;, score=0.890 total time=   1.9s\n",
            "[CV 2/5] END ........C=100, gamma=1, kernel=rbf;, score=0.881 total time=   2.5s\n",
            "[CV 3/5] END ........C=100, gamma=1, kernel=rbf;, score=0.882 total time=   3.4s\n",
            "[CV 4/5] END ........C=100, gamma=1, kernel=rbf;, score=0.888 total time=   2.8s\n",
            "[CV 5/5] END ........C=100, gamma=1, kernel=rbf;, score=0.894 total time=   1.9s\n",
            "[CV 1/5] END .....C=100, gamma=1, kernel=linear;, score=0.988 total time=   0.3s\n",
            "[CV 2/5] END .....C=100, gamma=1, kernel=linear;, score=0.985 total time=   0.3s\n",
            "[CV 3/5] END .....C=100, gamma=1, kernel=linear;, score=0.974 total time=   0.3s\n",
            "[CV 4/5] END .....C=100, gamma=1, kernel=linear;, score=0.981 total time=   0.3s\n",
            "[CV 5/5] END .....C=100, gamma=1, kernel=linear;, score=0.981 total time=   0.3s\n",
            "[CV 1/5] END ......C=100, gamma=0.1, kernel=rbf;, score=0.973 total time=   1.1s\n",
            "[CV 2/5] END ......C=100, gamma=0.1, kernel=rbf;, score=0.947 total time=   1.1s\n",
            "[CV 3/5] END ......C=100, gamma=0.1, kernel=rbf;, score=0.954 total time=   1.1s\n",
            "[CV 4/5] END ......C=100, gamma=0.1, kernel=rbf;, score=0.946 total time=   1.3s\n",
            "[CV 5/5] END ......C=100, gamma=0.1, kernel=rbf;, score=0.956 total time=   1.3s\n",
            "[CV 1/5] END ...C=100, gamma=0.1, kernel=linear;, score=0.988 total time=   0.4s\n",
            "[CV 2/5] END ...C=100, gamma=0.1, kernel=linear;, score=0.985 total time=   0.4s\n",
            "[CV 3/5] END ...C=100, gamma=0.1, kernel=linear;, score=0.974 total time=   0.4s\n",
            "[CV 4/5] END ...C=100, gamma=0.1, kernel=linear;, score=0.981 total time=   0.4s\n",
            "[CV 5/5] END ...C=100, gamma=0.1, kernel=linear;, score=0.981 total time=   0.4s\n",
            "[CV 1/5] END .....C=100, gamma=0.01, kernel=rbf;, score=0.988 total time=   0.6s\n",
            "[CV 2/5] END .....C=100, gamma=0.01, kernel=rbf;, score=0.986 total time=   0.6s\n",
            "[CV 3/5] END .....C=100, gamma=0.01, kernel=rbf;, score=0.976 total time=   0.6s\n",
            "[CV 4/5] END .....C=100, gamma=0.01, kernel=rbf;, score=0.981 total time=   0.5s\n",
            "[CV 5/5] END .....C=100, gamma=0.01, kernel=rbf;, score=0.981 total time=   0.4s\n",
            "[CV 1/5] END ..C=100, gamma=0.01, kernel=linear;, score=0.988 total time=   0.3s\n",
            "[CV 2/5] END ..C=100, gamma=0.01, kernel=linear;, score=0.985 total time=   0.3s\n",
            "[CV 3/5] END ..C=100, gamma=0.01, kernel=linear;, score=0.974 total time=   0.3s\n",
            "[CV 4/5] END ..C=100, gamma=0.01, kernel=linear;, score=0.981 total time=   0.3s\n",
            "[CV 5/5] END ..C=100, gamma=0.01, kernel=linear;, score=0.981 total time=   0.3s\n",
            "[CV 1/5] END ....C=100, gamma=0.001, kernel=rbf;, score=0.990 total time=   0.4s\n",
            "[CV 2/5] END ....C=100, gamma=0.001, kernel=rbf;, score=0.985 total time=   0.4s\n",
            "[CV 3/5] END ....C=100, gamma=0.001, kernel=rbf;, score=0.976 total time=   0.4s\n",
            "[CV 4/5] END ....C=100, gamma=0.001, kernel=rbf;, score=0.981 total time=   0.4s\n",
            "[CV 5/5] END ....C=100, gamma=0.001, kernel=rbf;, score=0.981 total time=   0.4s\n",
            "[CV 1/5] END .C=100, gamma=0.001, kernel=linear;, score=0.988 total time=   0.3s\n",
            "[CV 2/5] END .C=100, gamma=0.001, kernel=linear;, score=0.985 total time=   0.3s\n",
            "[CV 3/5] END .C=100, gamma=0.001, kernel=linear;, score=0.974 total time=   0.3s\n",
            "[CV 4/5] END .C=100, gamma=0.001, kernel=linear;, score=0.981 total time=   0.3s\n",
            "[CV 5/5] END .C=100, gamma=0.001, kernel=linear;, score=0.981 total time=   0.3s\n",
            "Best parameters (Grid Search): {'C': 10, 'gamma': 0.01, 'kernel': 'rbf'}\n",
            "Fitting 5 folds for each of 10 candidates, totalling 50 fits\n",
            "[CV 1/5] END ..C=100, gamma=0.01, kernel=linear;, score=0.988 total time=   0.3s\n",
            "[CV 2/5] END ..C=100, gamma=0.01, kernel=linear;, score=0.985 total time=   0.3s\n",
            "[CV 3/5] END ..C=100, gamma=0.01, kernel=linear;, score=0.974 total time=   0.3s\n",
            "[CV 4/5] END ..C=100, gamma=0.01, kernel=linear;, score=0.981 total time=   0.3s\n",
            "[CV 5/5] END ..C=100, gamma=0.01, kernel=linear;, score=0.981 total time=   0.3s\n",
            "[CV 1/5] END ...C=1, gamma=0.001, kernel=linear;, score=0.988 total time=   0.3s\n",
            "[CV 2/5] END ...C=1, gamma=0.001, kernel=linear;, score=0.985 total time=   0.3s\n",
            "[CV 3/5] END ...C=1, gamma=0.001, kernel=linear;, score=0.977 total time=   0.3s\n",
            "[CV 4/5] END ...C=1, gamma=0.001, kernel=linear;, score=0.979 total time=   0.3s\n",
            "[CV 5/5] END ...C=1, gamma=0.001, kernel=linear;, score=0.981 total time=   0.3s\n",
            "[CV 1/5] END ........C=100, gamma=1, kernel=rbf;, score=0.890 total time=   2.5s\n",
            "[CV 2/5] END ........C=100, gamma=1, kernel=rbf;, score=0.881 total time=   2.5s\n",
            "[CV 3/5] END ........C=100, gamma=1, kernel=rbf;, score=0.882 total time=   2.1s\n",
            "[CV 4/5] END ........C=100, gamma=1, kernel=rbf;, score=0.888 total time=   1.9s\n",
            "[CV 5/5] END ........C=100, gamma=1, kernel=rbf;, score=0.894 total time=   1.9s\n",
            "[CV 1/5] END ......C=10, gamma=1, kernel=linear;, score=0.988 total time=   0.3s\n",
            "[CV 2/5] END ......C=10, gamma=1, kernel=linear;, score=0.985 total time=   0.3s\n",
            "[CV 3/5] END ......C=10, gamma=1, kernel=linear;, score=0.974 total time=   0.3s\n",
            "[CV 4/5] END ......C=10, gamma=1, kernel=linear;, score=0.981 total time=   0.3s\n",
            "[CV 5/5] END ......C=10, gamma=1, kernel=linear;, score=0.981 total time=   0.3s\n",
            "[CV 1/5] END ..........C=1, gamma=1, kernel=rbf;, score=0.890 total time=   1.9s\n",
            "[CV 2/5] END ..........C=1, gamma=1, kernel=rbf;, score=0.881 total time=   2.0s\n",
            "[CV 3/5] END ..........C=1, gamma=1, kernel=rbf;, score=0.882 total time=   2.5s\n",
            "[CV 4/5] END ..........C=1, gamma=1, kernel=rbf;, score=0.888 total time=   2.5s\n",
            "[CV 5/5] END ..........C=1, gamma=1, kernel=rbf;, score=0.892 total time=   2.0s\n",
            "[CV 1/5] END .......C=1, gamma=1, kernel=linear;, score=0.988 total time=   0.3s\n",
            "[CV 2/5] END .......C=1, gamma=1, kernel=linear;, score=0.985 total time=   0.3s\n",
            "[CV 3/5] END .......C=1, gamma=1, kernel=linear;, score=0.977 total time=   0.3s\n",
            "[CV 4/5] END .......C=1, gamma=1, kernel=linear;, score=0.979 total time=   0.3s\n",
            "[CV 5/5] END .......C=1, gamma=1, kernel=linear;, score=0.981 total time=   0.3s\n",
            "[CV 1/5] END ....C=100, gamma=0.001, kernel=rbf;, score=0.990 total time=   0.4s\n",
            "[CV 2/5] END ....C=100, gamma=0.001, kernel=rbf;, score=0.985 total time=   0.4s\n",
            "[CV 3/5] END ....C=100, gamma=0.001, kernel=rbf;, score=0.976 total time=   0.4s\n",
            "[CV 4/5] END ....C=100, gamma=0.001, kernel=rbf;, score=0.981 total time=   0.4s\n",
            "[CV 5/5] END ....C=100, gamma=0.001, kernel=rbf;, score=0.981 total time=   0.4s\n",
            "[CV 1/5] END .....C=100, gamma=1, kernel=linear;, score=0.988 total time=   0.3s\n",
            "[CV 2/5] END .....C=100, gamma=1, kernel=linear;, score=0.985 total time=   0.3s\n",
            "[CV 3/5] END .....C=100, gamma=1, kernel=linear;, score=0.974 total time=   0.3s\n",
            "[CV 4/5] END .....C=100, gamma=1, kernel=linear;, score=0.981 total time=   0.3s\n",
            "[CV 5/5] END .....C=100, gamma=1, kernel=linear;, score=0.981 total time=   0.3s\n",
            "[CV 1/5] END .......C=1, gamma=0.01, kernel=rbf;, score=0.983 total time=   0.6s\n",
            "[CV 2/5] END .......C=1, gamma=0.01, kernel=rbf;, score=0.976 total time=   0.5s\n",
            "[CV 3/5] END .......C=1, gamma=0.01, kernel=rbf;, score=0.967 total time=   0.5s\n",
            "[CV 4/5] END .......C=1, gamma=0.01, kernel=rbf;, score=0.973 total time=   0.5s\n",
            "[CV 5/5] END .......C=1, gamma=0.01, kernel=rbf;, score=0.974 total time=   0.5s\n",
            "[CV 1/5] END ........C=0.1, gamma=1, kernel=rbf;, score=0.864 total time=   2.3s\n",
            "[CV 2/5] END ........C=0.1, gamma=1, kernel=rbf;, score=0.864 total time=   2.4s\n",
            "[CV 3/5] END ........C=0.1, gamma=1, kernel=rbf;, score=0.864 total time=   2.3s\n",
            "[CV 4/5] END ........C=0.1, gamma=1, kernel=rbf;, score=0.865 total time=   1.8s\n",
            "[CV 5/5] END ........C=0.1, gamma=1, kernel=rbf;, score=0.865 total time=   1.8s\n",
            "Best parameters (Random Search): {'kernel': 'rbf', 'gamma': 0.001, 'C': 100}\n"
          ]
        }
      ]
    },
    {
      "cell_type": "code",
      "source": [
        "import matplotlib.pyplot as plt\n",
        "import seaborn as sns\n",
        "from sklearn.metrics import confusion_matrix, accuracy_score\n",
        "\n",
        "def evaluate_model(model, X_test, y_test):\n",
        "    y_pred = model.predict(X_test)\n",
        "    cm = confusion_matrix(y_test, y_pred)\n",
        "\n",
        "    # Plotting the confusion matrix\n",
        "    plt.figure(figsize=(8, 6))\n",
        "    sns.heatmap(cm, annot=True, fmt=\"d\", cmap=\"Blues\")\n",
        "    plt.title('Confusion Matrix')\n",
        "    plt.ylabel('True Label')\n",
        "    plt.xlabel('Predicted Label')\n",
        "    plt.show()\n",
        "\n"
      ],
      "metadata": {
        "id": "p8Fr_BnK7pdv"
      },
      "execution_count": 8,
      "outputs": []
    },
    {
      "cell_type": "code",
      "source": [
        "# Evaluate Grid Search Model\n",
        "print(\"Grid Search Model Evaluation:\")\n",
        "evaluate_model(grid_search, X_test, y_test)\n",
        "\n",
        "# Evaluate Random Search Model\n",
        "print(\"\\nRandom Search Model Evaluation:\")\n",
        "evaluate_model(random_search, X_test, y_test)\n"
      ],
      "metadata": {
        "colab": {
          "base_uri": "https://localhost:8080/",
          "height": 1000
        },
        "id": "UR3H30wj80uK",
        "outputId": "f50e5ad4-80ca-4f50-a0d9-227fd0d4dad2"
      },
      "execution_count": 9,
      "outputs": [
        {
          "output_type": "stream",
          "name": "stdout",
          "text": [
            "Grid Search Model Evaluation:\n"
          ]
        },
        {
          "output_type": "display_data",
          "data": {
            "text/plain": [
              "<Figure size 800x600 with 2 Axes>"
            ],
            "image/png": "[encoded data removed]"
          },
          "metadata": {}
        },
        {
          "output_type": "stream",
          "name": "stdout",
          "text": [
            "\n",
            "Random Search Model Evaluation:\n"
          ]
        },
        {
          "output_type": "display_data",
          "data": {
            "text/plain": [
              "<Figure size 800x600 with 2 Axes>"
            ],
            "image/png": "[encoded data removed]"
          },
          "metadata": {}
        }
      ]
    }
  ]
}